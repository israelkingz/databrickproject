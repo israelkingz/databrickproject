{
 "cells": [
  {
   "cell_type": "code",
   "execution_count": 0,
   "metadata": {
    "application/vnd.databricks.v1+cell": {
     "cellMetadata": {
      "byteLimit": 2048000,
      "rowLimit": 10000
     },
     "inputWidgets": {},
     "nuid": "be04319b-8619-4ff6-b1cb-3934f37ea2e6",
     "showTitle": false,
     "title": ""
    }
   },
   "outputs": [
    {
     "output_type": "stream",
     "name": "stdout",
     "output_type": "stream",
     "text": [
      "Out[1]: [FileInfo(path='dbfs:/FileStore/tables/clinicaltrial_2020.csv', name='clinicaltrial_2020.csv', size=46318151, modificationTime=1708680018000),\n FileInfo(path='dbfs:/FileStore/tables/clinicaltrial_2020.zip', name='clinicaltrial_2020.zip', size=10599182, modificationTime=1708678578000),\n FileInfo(path='dbfs:/FileStore/tables/clinicaltrial_2021.csv', name='clinicaltrial_2021.csv', size=50359696, modificationTime=1708680002000),\n FileInfo(path='dbfs:/FileStore/tables/clinicaltrial_2021.zip', name='clinicaltrial_2021.zip', size=11508457, modificationTime=1708678580000),\n FileInfo(path='dbfs:/FileStore/tables/clinicaltrial_2023-2.zip', name='clinicaltrial_2023-2.zip', size=52785750, modificationTime=1708155889000),\n FileInfo(path='dbfs:/FileStore/tables/clinicaltrial_2023.csv', name='clinicaltrial_2023.csv', size=292436366, modificationTime=1708679957000),\n FileInfo(path='dbfs:/FileStore/tables/clinicaltrial_2023_1/', name='clinicaltrial_2023_1/', size=0, modificationTime=0),\n FileInfo(path='dbfs:/FileStore/tables/clinicaltrial_2023_1.zip', name='clinicaltrial_2023_1.zip', size=57166668, modificationTime=1708678828000),\n FileInfo(path='dbfs:/FileStore/tables/pharma.csv', name='pharma.csv', size=678999, modificationTime=1708679988000),\n FileInfo(path='dbfs:/FileStore/tables/pharma.zip', name='pharma.zip', size=109982, modificationTime=1708155611000),\n FileInfo(path='dbfs:/FileStore/tables/steam_200k.csv', name='steam_200k.csv', size=8059447, modificationTime=1708156943000),\n FileInfo(path='dbfs:/FileStore/tables/webpage/', name='webpage/', size=0, modificationTime=0),\n FileInfo(path='dbfs:/FileStore/tables/webpage.zip', name='webpage.zip', size=1582, modificationTime=1707313469000),\n FileInfo(path='dbfs:/FileStore/tables/webpage__1_.zip', name='webpage__1_.zip', size=1582, modificationTime=1707311592000)]"
     ]
    }
   ],
   "source": [
    "dbutils.fs.ls(\"/FileStore/tables/\")"
   ]
  },
  {
   "cell_type": "code",
   "execution_count": 0,
   "metadata": {
    "application/vnd.databricks.v1+cell": {
     "cellMetadata": {
      "byteLimit": 2048000,
      "rowLimit": 10000
     },
     "inputWidgets": {},
     "nuid": "b87cda4c-a050-40f8-9eb8-acec6fde0757",
     "showTitle": false,
     "title": ""
    }
   },
   "outputs": [
    {
     "output_type": "stream",
     "name": "stdout",
     "output_type": "stream",
     "text": [
      "+------------+--------------------------------------------------------------------------------------------------------------------------------------------------------------+----------+------------------+------------------------------------------------------------------------------------------+---------------------------------------------------------------------------------------+---------------------------------------+------------------------------------------------------------------------------------+----------+-----------+--------------+----------------------------------------------------------------------------------------------------------------------------------------------------+----------+-----------------------------------------------------------------------------------------------------------------------------------------------------------------------------------------------------------------------------+\n|Id          |Study Title                                                                                                                                                   |Acronym   |Study Status      |Conditions                                                                                |Interventions                                                                          |Sponsor                                |Collaborators                                                                       |Enrollment|Funder Type|Study Type    |Study Design                                                                                                                                        |Start Date|Completion Date                                                                                                                                                                                                              |\n+------------+--------------------------------------------------------------------------------------------------------------------------------------------------------------+----------+------------------+------------------------------------------------------------------------------------------+---------------------------------------------------------------------------------------+---------------------------------------+------------------------------------------------------------------------------------+----------+-----------+--------------+----------------------------------------------------------------------------------------------------------------------------------------------------+----------+-----------------------------------------------------------------------------------------------------------------------------------------------------------------------------------------------------------------------------+\n|\"NCT03630471|Effectiveness of a Problem-solving Intervention for Common Adolescent Mental Health Problems in India                                                         |PRIDE     |COMPLETED         |Mental Health Issue (E.G.\", Depression, Psychosis, Personality Disorder,\" Substance Abuse)|BEHAVIORAL: PRIDE 'Step 1' problem-solving intervention|BEHAVIORAL: Enhanced usual care|Sangath                                |Harvard Medical School (HMS and HSDM)|London School of Hygiene and Tropical Medicine|250.0     |OTHER      |INTERVENTIONAL|Allocation: RANDOMIZED|Intervention Model: PARALLEL|Masking: DOUBLE (INVESTIGATOR\",\" OUTCOMES_ASSESSOR)|Primary Purpose: TREATMENT                  |2018-08-20|2019-02-28\",,,,,,,,,,,,,,,,,,,,,,,,,,,,,,,,,,,,,,,,,,,,,,,,,,,,,,,,,,,,,,,,,,,,,,,,,,,,,,,,,,,,,,,,,,,,,,,,,,,,,,,,,,,,,,,,,,,,,,,,,,,,,,,,,,,,,,,,,,,,,,,,,,,,,,,,,,,,,,,,,,,,,,,,,,,,,,,,,,,,,,,,,,,,,,,,,,,,,,,,,,,,,     |\n|\"NCT05992571|Oral Ketone Monoester Supplementation and Resting-state Brain Connectivity                                                                                    |          |RECRUITING        |Cerebrovascular Function|Cognition                                                        |OTHER: Placebo|DIETARY_SUPPLEMENT: β-OHB                                               |McMaster University                    |Alzheimer's Society of Brant\", Haldimand Norfolk,\" Hamilton Halton                  |30.0      |OTHER      |INTERVENTIONAL|Allocation: RANDOMIZED|Intervention Model: CROSSOVER|Masking: TRIPLE (PARTICIPANT\", INVESTIGATOR,\" OUTCOMES_ASSESSOR)|Primary Purpose: BASIC_SCIENCE|2023-10-25|2024-08\",,,,,,,,,,,,,,,,,,,,,,,,,,,,,,,,,,,,,,,,,,,,,,,,,,,,,,,,,,,,,,,,,,,,,,,,,,,,,,,,,,,,,,,,,,,,,,,,,,,,,,,,,,,,,,,,,,,,,,,,,,,,,,,,,,,,,,,,,,,,,,,,,,,,,,,,,,,,,,,,,,,,,,,,,,,,,,,,,,,,,,,,,,,,,,,,,,,,,,,,,,,,,,       |\n|\"NCT00237471|Impact of Tight Glycaemic Control in Acute Myocardial Infarction                                                                                              |          |TERMINATED        |Myocardial Infarct|Hyperglycemia                                                          |DRUG: Insulin (tight blood glucose control)                                            |Melbourne Health                       |National Health and Medical Research Council\",\" Australia|Bristol-Myers Squibb      |40.0      |OTHER      |INTERVENTIONAL|Allocation: RANDOMIZED|Intervention Model: PARALLEL|Masking: NONE|Primary Purpose: TREATMENT                                                        |2005-10   |2006-05\",,,,,,,,,,,,,,,,,,,,,,,,,,,,,,,,,,,,,,,,,,,,,,,,,,,,,,,,,,,,,,,,,,,,,,,,,,,,,,,,,,,,,,,,,,,,,,,,,,,,,,,,,,,,,,,,,,,,,,,,,,,,,,,,,,,,,,,,,,,,,,,,,,,,,,,,,,,,,,,,,,,,,,,,,,,,,,,,,,,,,,,,,,,,,,,,,,,,,,,,,,,,,,,,,    |\n|\"NCT03820271|New Prognostic Predictive Models of Mortality of Decompensated Cirrhotic Patients Waiting for Liver Transplantation                                           |SUPERMELD |RECRUITING        |Decompensated Cirrhosis|Liver Transplantation                                             |OTHER: SuperMELD                                                                       |Assistance Publique - Hôpitaux de Paris|                                                                                    |500.0     |OTHER      |INTERVENTIONAL|Allocation: NA|Intervention Model: SINGLE_GROUP|Masking: NONE|Primary Purpose: OTHER                                                                |2020-10-01|2023-10-01\",,,,,,,,,,,,,,,,,,,,,,,,,,,,,,,,,,,,,,,,,,,,,,,,,,,,,,,,,,,,,,,,,,,,,,,,,,,,,,,,,,,,,,,,,,,,,,,,,,,,,,,,,,,,,,,,,,,,,,,,,,,,,,,,,,,,,,,,,,,,,,,,,,,,,,,,,,,,,,,,,,,,,,,,,,,,,,,,,,,,,,,,,,,,,,,,,,,,,,,,,,,,,,,,,,|\n|\"NCT06229171|InTake Care: Development and Validation of an Innovative\",\" Personalized Digital Health Solution for Medication Adherence Support in Cardiovascular Prevention|InTakeCare|NOT_YET_RECRUITING|Hypertension|Treatment Adherence and Compliance|Digital Health                            |OTHER: adherence support system based on a vocal assistant                             |Istituto Auxologico Italiano           |Istituti Clinici Scientifici Maugeri SpA|Politecnico di Milano                      |206.0     |OTHER      |INTERVENTIONAL|Allocation: RANDOMIZED|Intervention Model: PARALLEL|Masking: NONE|Primary Purpose: OTHER                                                            |2024-10-01|2026-04-01\",,,,,,,,,,,,,,,,,,,,,,,,,,,,,,,,,,,,,,,,,,,,,,,,,,,,,,,,,,,,,,,,,,,,,,,,,,,,,,,,,,,,,,,,,,,,,,,,,,,,,,,,,,,,,,,,,,,,,,,,,,,,,,,,,,,,,,,,,,,,,,,,,,,,,,,,,,,,,,,,,,,,,,,,,,,,,,,,,,,,,,,,,,,,,,,,,,,,,,,,,,,,,,,,, |\n+------------+--------------------------------------------------------------------------------------------------------------------------------------------------------------+----------+------------------+------------------------------------------------------------------------------------------+---------------------------------------------------------------------------------------+---------------------------------------+------------------------------------------------------------------------------------+----------+-----------+--------------+----------------------------------------------------------------------------------------------------------------------------------------------------+----------+-----------------------------------------------------------------------------------------------------------------------------------------------------------------------------------------------------------------------------+\nonly showing top 5 rows\n\n"
     ]
    }
   ],
   "source": [
    "from pyspark.sql import SparkSession\n",
    "from pyspark.sql.functions import split, col\n",
    "from pyspark.sql.types import StructType, StructField, StringType\n",
    "\n",
    "# Start Spark session\n",
    "spark = SparkSession.builder.appName(\"clinical_trials\").getOrCreate()\n",
    "\n",
    "# Define the schema based on the provided fields\n",
    "schema = StructType([\n",
    "    StructField(\"Id\", StringType(), True),\n",
    "    StructField(\"Study Title\", StringType(), True),\n",
    "    StructField(\"Acronym\", StringType(), True),\n",
    "    StructField(\"Study Status\", StringType(), True),\n",
    "    StructField(\"Conditions\", StringType(), True),\n",
    "    StructField(\"Interventions\", StringType(), True),\n",
    "    StructField(\"Sponsor\", StringType(), True),\n",
    "    StructField(\"Collaborators\", StringType(), True),\n",
    "    StructField(\"Enrollment\", StringType(), True),\n",
    "    StructField(\"Funder Type\", StringType(), True),\n",
    "    StructField(\"Study Type\", StringType(), True),\n",
    "    StructField(\"Study Design\", StringType(), True),\n",
    "    StructField(\"Start Date\", StringType(), True),\n",
    "    StructField(\"Completion Date\", StringType(), True)\n",
    "])\n",
    "\n",
    "# Load data as a single column of text\n",
    "data_path = \"/FileStore/tables/clinicaltrial_2023.csv\"\n",
    "df_raw = spark.read.text(data_path)\n",
    "\n",
    "# Correctly split the \"value\" column by actual tab character\n",
    "df_processed = df_raw.withColumn(\"value\", split(col(\"value\"), \"\\t\"))\n",
    "\n",
    "# Extract columns based on the schema\n",
    "# Adjust the indexing if necessary to skip any header-like rows repeated in the data\n",
    "df_final = df_processed.select([df_processed[\"value\"].getItem(i).alias(field.name) for i, field in enumerate(schema.fields)])\n",
    "\n",
    "df_filtered = df_final.filter(df_final[\"Id\"] != \"\\\"Id\")\n",
    "# Optionally, filter out the first row if it's a header or any non-data row\n",
    "# Here, you would need a condition to identify such rows, like checking if \"Id\" matches a pattern\n",
    "\n",
    "# Show the DataFrame to verify correct loading\n",
    "df_filtered.show(5, truncate=False)\n"
   ]
  },
  {
   "cell_type": "code",
   "execution_count": 0,
   "metadata": {
    "application/vnd.databricks.v1+cell": {
     "cellMetadata": {
      "byteLimit": 2048000,
      "rowLimit": 10000
     },
     "inputWidgets": {},
     "nuid": "1ab7dfdb-6891-4285-a5ea-659dff9cd09f",
     "showTitle": false,
     "title": ""
    }
   },
   "outputs": [],
   "source": [
    "# adding \"completion_date\" column\n",
    "from pyspark.sql.functions import regexp_replace\n",
    "from pyspark.sql.functions import date_format\n",
    "df_filtered = df_filtered.withColumn('Completion Date', regexp_replace('Completion Date', '\\\"|,+', ''))"
   ]
  },
  {
   "cell_type": "code",
   "execution_count": 0,
   "metadata": {
    "application/vnd.databricks.v1+cell": {
     "cellMetadata": {
      "byteLimit": 2048000,
      "rowLimit": 10000
     },
     "inputWidgets": {},
     "nuid": "31969cf9-7b50-44f6-bdbf-e68a778377e3",
     "showTitle": false,
     "title": ""
    }
   },
   "outputs": [
    {
     "output_type": "stream",
     "name": "stdout",
     "output_type": "stream",
     "text": [
      "+------------+--------------------------------------------------------------------------------------------------------------------------------------------------------------+----------+------------------+------------------------------------------------------------------------------------------+---------------------------------------------------------------------------------------+---------------------------------------+------------------------------------------------------------------------------------+----------+-----------+--------------+----------------------------------------------------------------------------------------------------------------------------------------------------+----------+---------------+\n|Id          |Study Title                                                                                                                                                   |Acronym   |Study Status      |Conditions                                                                                |Interventions                                                                          |Sponsor                                |Collaborators                                                                       |Enrollment|Funder Type|Study Type    |Study Design                                                                                                                                        |Start Date|Completion Date|\n+------------+--------------------------------------------------------------------------------------------------------------------------------------------------------------+----------+------------------+------------------------------------------------------------------------------------------+---------------------------------------------------------------------------------------+---------------------------------------+------------------------------------------------------------------------------------+----------+-----------+--------------+----------------------------------------------------------------------------------------------------------------------------------------------------+----------+---------------+\n|\"NCT03630471|Effectiveness of a Problem-solving Intervention for Common Adolescent Mental Health Problems in India                                                         |PRIDE     |COMPLETED         |Mental Health Issue (E.G.\", Depression, Psychosis, Personality Disorder,\" Substance Abuse)|BEHAVIORAL: PRIDE 'Step 1' problem-solving intervention|BEHAVIORAL: Enhanced usual care|Sangath                                |Harvard Medical School (HMS and HSDM)|London School of Hygiene and Tropical Medicine|250.0     |OTHER      |INTERVENTIONAL|Allocation: RANDOMIZED|Intervention Model: PARALLEL|Masking: DOUBLE (INVESTIGATOR\",\" OUTCOMES_ASSESSOR)|Primary Purpose: TREATMENT                  |2018-08-20|2019-02-28     |\n|\"NCT05992571|Oral Ketone Monoester Supplementation and Resting-state Brain Connectivity                                                                                    |          |RECRUITING        |Cerebrovascular Function|Cognition                                                        |OTHER: Placebo|DIETARY_SUPPLEMENT: β-OHB                                               |McMaster University                    |Alzheimer's Society of Brant\", Haldimand Norfolk,\" Hamilton Halton                  |30.0      |OTHER      |INTERVENTIONAL|Allocation: RANDOMIZED|Intervention Model: CROSSOVER|Masking: TRIPLE (PARTICIPANT\", INVESTIGATOR,\" OUTCOMES_ASSESSOR)|Primary Purpose: BASIC_SCIENCE|2023-10-25|2024-08        |\n|\"NCT00237471|Impact of Tight Glycaemic Control in Acute Myocardial Infarction                                                                                              |          |TERMINATED        |Myocardial Infarct|Hyperglycemia                                                          |DRUG: Insulin (tight blood glucose control)                                            |Melbourne Health                       |National Health and Medical Research Council\",\" Australia|Bristol-Myers Squibb      |40.0      |OTHER      |INTERVENTIONAL|Allocation: RANDOMIZED|Intervention Model: PARALLEL|Masking: NONE|Primary Purpose: TREATMENT                                                        |2005-10   |2006-05        |\n|\"NCT03820271|New Prognostic Predictive Models of Mortality of Decompensated Cirrhotic Patients Waiting for Liver Transplantation                                           |SUPERMELD |RECRUITING        |Decompensated Cirrhosis|Liver Transplantation                                             |OTHER: SuperMELD                                                                       |Assistance Publique - Hôpitaux de Paris|                                                                                    |500.0     |OTHER      |INTERVENTIONAL|Allocation: NA|Intervention Model: SINGLE_GROUP|Masking: NONE|Primary Purpose: OTHER                                                                |2020-10-01|2023-10-01     |\n|\"NCT06229171|InTake Care: Development and Validation of an Innovative\",\" Personalized Digital Health Solution for Medication Adherence Support in Cardiovascular Prevention|InTakeCare|NOT_YET_RECRUITING|Hypertension|Treatment Adherence and Compliance|Digital Health                            |OTHER: adherence support system based on a vocal assistant                             |Istituto Auxologico Italiano           |Istituti Clinici Scientifici Maugeri SpA|Politecnico di Milano                      |206.0     |OTHER      |INTERVENTIONAL|Allocation: RANDOMIZED|Intervention Model: PARALLEL|Masking: NONE|Primary Purpose: OTHER                                                            |2024-10-01|2026-04-01     |\n+------------+--------------------------------------------------------------------------------------------------------------------------------------------------------------+----------+------------------+------------------------------------------------------------------------------------------+---------------------------------------------------------------------------------------+---------------------------------------+------------------------------------------------------------------------------------+----------+-----------+--------------+----------------------------------------------------------------------------------------------------------------------------------------------------+----------+---------------+\nonly showing top 5 rows\n\n"
     ]
    }
   ],
   "source": [
    "from pyspark.sql.functions import col, count, lit, when\n",
    "from pyspark.sql.window import Window\n",
    "\n",
    "# Function to calculate mode for a given column\n",
    "def calculate_mode(df, column_name):\n",
    "    # Group by the column, count occurrences, and order to find the mode\n",
    "    mode_df = df.groupBy(column_name) \\\n",
    "                .agg(count(lit(1)).alias(\"freq\")) \\\n",
    "                .orderBy(col(\"freq\").desc())\n",
    "    \n",
    "    # Get the most frequent value (mode)\n",
    "    mode_value = mode_df.first()[0]\n",
    "    return mode_value\n",
    "\n",
    "# Function to fill missing values with mode for each specified column\n",
    "def fill_with_mode(df, columns):\n",
    "    for column in columns:\n",
    "        mode_value = calculate_mode(df.filter(col(column).isNotNull()), column)\n",
    "        # Fill missing values in the DataFrame with the mode\n",
    "        df = df.withColumn(column, when(col(column).isNull(), mode_value).otherwise(col(column)))\n",
    "    return df\n",
    "\n",
    "# Columns to fill with mode\n",
    "columns_to_fill = [\"Study Title\", \"Acronym\", \"Study Status\", \"Conditions\", \"Interventions\", \"Sponsor\", \"Collaborators\", \"Enrollment\", \"Funder Type\", \"Study Type\", \"Study Design\", \"Start Date\"]\n",
    "\n",
    "# Apply the function to fill missing values with mode\n",
    "df_filtered = fill_with_mode(df_filtered, columns_to_fill)\n",
    "\n",
    "# Show the DataFrame to verify that missing values are filled\n",
    "df_filtered.show(5, truncate=False)\n"
   ]
  },
  {
   "cell_type": "code",
   "execution_count": 0,
   "metadata": {
    "application/vnd.databricks.v1+cell": {
     "cellMetadata": {
      "byteLimit": 2048000,
      "rowLimit": 10000
     },
     "inputWidgets": {},
     "nuid": "00001a7c-450a-45df-8f51-553d92a06463",
     "showTitle": false,
     "title": ""
    }
   },
   "outputs": [],
   "source": [
    "from pyspark.sql.functions import when, trim, col\n",
    "\n",
    "# List of string columns to check for spaces and replace with \"Unknown\"\n",
    "columns_to_fill = [\"Study Title\", \"Acronym\", \"Study Status\", \"Conditions\", \"Interventions\", \"Sponsor\", \"Collaborators\", \"Enrollment\", \"Funder Type\", \"Study Type\", \"Study Design\", \"Start Date\"] # Add other string columns as needed\n",
    "\n",
    "for column in columns_to_fill:\n",
    "    df_filtered = df_filtered.withColumn(column, when(trim(col(column)) == \"\", \"Unknown\").otherwise(col(column)))\n"
   ]
  },
  {
   "cell_type": "code",
   "execution_count": 0,
   "metadata": {
    "application/vnd.databricks.v1+cell": {
     "cellMetadata": {
      "byteLimit": 2048000,
      "rowLimit": 10000
     },
     "inputWidgets": {},
     "nuid": "b4ff4902-0a5f-465e-bada-2d10e74992b8",
     "showTitle": false,
     "title": ""
    }
   },
   "outputs": [
    {
     "output_type": "stream",
     "name": "stdout",
     "output_type": "stream",
     "text": [
      "+--------------------+-------------------+--------------+------------------------+---------------------------------------------------------+------------+------------+--------------------+--------------------+--------------------+--------------------+-------------------+-------------+--------------------+------------------+---------------------+-----+-------+-----------------------------+------------------+--------------+----+-------+----+----------+-----------------+--------------------+------------------+-------------------+---------------------------+------------------------+---------------------------+--------------------+-----+\n|             Company|     Parent_Company|Penalty_Amount|Subtraction_From_Penalty|Penalty_Amount_Adjusted_For_Eliminating_Multiple_Counting|Penalty_Year|Penalty_Date|       Offense_Group|     Primary_Offense|   Secondary_Offense|         Description|Level_of_Government|  Action_Type|              Agency|    Civil/Criminal|Prosecution_Agreement|Court|Case_ID|Private_Litigation_Case_Title|Lawsuit_Resolution|Facility_State|City|Address| Zip|NAICS_Code|NAICS_Translation|HQ_Country_of_Parent|HQ_State_of_Parent|Ownership_Structure|Parent_Company_Stock_Ticker|Major_Industry_of_Parent|Specific_Industry_of_Parent|         Info_Source|Notes|\n+--------------------+-------------------+--------------+------------------------+---------------------------------------------------------+------------+------------+--------------------+--------------------+--------------------+--------------------+-------------------+-------------+--------------------+------------------+---------------------+-----+-------+-----------------------------+------------------+--------------+----+-------+----+----------+-----------------+--------------------+------------------+-------------------+---------------------------+------------------------+---------------------------+--------------------+-----+\n| Abbott Laboratories|Abbott Laboratories|          null|                    null|                                                     null|        2013|        null|government-contra...|False Claims Act ...|kickbacks and bri...|Abbott Laboratori...|            federal|agency action|Justice Departmen...|             civil|                 null| null|   null|                         null|              null|          null|null|   null|null|      null|             null|                 USA|          Illinois|    publicly traded|                        ABT|         pharmaceuticals|            pharmaceuticals|https://www.justi...| null|\n|Abbott Laboratori...|             AbbVie|          null|                    null|                                                     null|        2012|        null|healthcare-relate...|off-label or unap...|                null|Global Health Car...|            federal|agency action|Food and Drug Adm...|civil and criminal|                 null| null|   null|                         null|              null|          null|null|   null|null|      null|             null|                 USA|          Illinois|    publicly traded|                       ABBV|         pharmaceuticals|            pharmaceuticals|http://www.justic...| null|\n+--------------------+-------------------+--------------+------------------------+---------------------------------------------------------+------------+------------+--------------------+--------------------+--------------------+--------------------+-------------------+-------------+--------------------+------------------+---------------------+-----+-------+-----------------------------+------------------+--------------+----+-------+----+----------+-----------------+--------------------+------------------+-------------------+---------------------------+------------------------+---------------------------+--------------------+-----+\nonly showing top 2 rows\n\n"
     ]
    }
   ],
   "source": [
    "from pyspark.sql import SparkSession\n",
    "from pyspark.sql.types import StructType, StructField, StringType, IntegerType, DateType\n",
    "from pyspark.sql.functions import split, col\n",
    "\n",
    "# Start Spark session\n",
    "spark = SparkSession.builder.appName(\"pharmacy_dataset\").getOrCreate()\n",
    "\n",
    "# Define the schema based on the pharmacy dataset fields\n",
    "schema = StructType([\n",
    "    StructField(\"Company\", StringType(), True),\n",
    "    StructField(\"Parent_Company\", StringType(), True),\n",
    "    StructField(\"Penalty_Amount\", IntegerType(), True),\n",
    "    StructField(\"Subtraction_From_Penalty\", IntegerType(), True),\n",
    "    StructField(\"Penalty_Amount_Adjusted_For_Eliminating_Multiple_Counting\", IntegerType(), True),\n",
    "    StructField(\"Penalty_Year\", IntegerType(), True),\n",
    "    StructField(\"Penalty_Date\", DateType(), True),\n",
    "    StructField(\"Offense_Group\", StringType(), True),\n",
    "    StructField(\"Primary_Offense\", StringType(), True),\n",
    "    StructField(\"Secondary_Offense\", StringType(), True),\n",
    "    StructField(\"Description\", StringType(), True),\n",
    "    StructField(\"Level_of_Government\", StringType(), True),\n",
    "    StructField(\"Action_Type\", StringType(), True),\n",
    "    StructField(\"Agency\", StringType(), True),\n",
    "    StructField(\"Civil/Criminal\", StringType(), True),\n",
    "    StructField(\"Prosecution_Agreement\", StringType(), True),\n",
    "    StructField(\"Court\", StringType(), True),\n",
    "    StructField(\"Case_ID\", StringType(), True),\n",
    "    StructField(\"Private_Litigation_Case_Title\", StringType(), True),\n",
    "    StructField(\"Lawsuit_Resolution\", StringType(), True),\n",
    "    StructField(\"Facility_State\", StringType(), True),\n",
    "    StructField(\"City\", StringType(), True),\n",
    "    StructField(\"Address\", StringType(), True),\n",
    "    StructField(\"Zip\", StringType(), True),\n",
    "    StructField(\"NAICS_Code\", StringType(), True),\n",
    "    StructField(\"NAICS_Translation\", StringType(), True),\n",
    "    StructField(\"HQ_Country_of_Parent\", StringType(), True),\n",
    "    StructField(\"HQ_State_of_Parent\", StringType(), True),\n",
    "    StructField(\"Ownership_Structure\", StringType(), True),\n",
    "    StructField(\"Parent_Company_Stock_Ticker\", StringType(), True),\n",
    "    StructField(\"Major_Industry_of_Parent\", StringType(), True),\n",
    "    StructField(\"Specific_Industry_of_Parent\", StringType(), True),\n",
    "    StructField(\"Info_Source\", StringType(), True),\n",
    "    StructField(\"Notes\", StringType(), True)\n",
    "])\n",
    "\n",
    "# Assuming the delimiter is '|', update the path to your pharmacy dataset\n",
    "data_path = \"/FileStore/tables/pharma.csv\"\n",
    "df_pharmacy = spark.read.option(\"header\", \"true\").csv(data_path, schema=schema, sep=\",\")\n",
    "df_pharmacy.show(2)\n"
   ]
  },
  {
   "cell_type": "code",
   "execution_count": 0,
   "metadata": {
    "application/vnd.databricks.v1+cell": {
     "cellMetadata": {
      "byteLimit": 2048000,
      "rowLimit": 10000
     },
     "inputWidgets": {},
     "nuid": "c20cbdf7-da99-496f-9b39-e4600b02c31f",
     "showTitle": false,
     "title": ""
    }
   },
   "outputs": [],
   "source": [
    "string_columns = [field.name for field in schema.fields if isinstance(field.dataType, StringType)]\n",
    "\n",
    "for column in string_columns:\n",
    "    df_pharmacy = df_pharmacy.na.fill({column: \"Unknown\"})\n"
   ]
  },
  {
   "cell_type": "code",
   "execution_count": 0,
   "metadata": {
    "application/vnd.databricks.v1+cell": {
     "cellMetadata": {
      "byteLimit": 2048000,
      "rowLimit": 10000
     },
     "inputWidgets": {},
     "nuid": "ff9297f1-088a-44ad-bf2c-80c3d63eecb1",
     "showTitle": false,
     "title": ""
    }
   },
   "outputs": [],
   "source": [
    "integer_columns = [field.name for field in schema.fields if isinstance(field.dataType, IntegerType)]\n",
    "\n",
    "for column in integer_columns:\n",
    "    df_pharmacy = df_pharmacy.na.fill({column: 0})\n"
   ]
  },
  {
   "cell_type": "code",
   "execution_count": 0,
   "metadata": {
    "application/vnd.databricks.v1+cell": {
     "cellMetadata": {
      "byteLimit": 2048000,
      "rowLimit": 10000
     },
     "inputWidgets": {},
     "nuid": "8d8c4ec3-b772-4873-b80d-a4a0ec2a36ac",
     "showTitle": false,
     "title": ""
    }
   },
   "outputs": [
    {
     "output_type": "stream",
     "name": "stdout",
     "output_type": "stream",
     "text": [
      "Out[9]: 483422"
     ]
    }
   ],
   "source": [
    "# Question 1: Number of Studies in the dataset\n",
    "distinct_studies_rdd = df_filtered.rdd.map(lambda row: row[\"Id\"]).distinct().count()\n",
    "distinct_studies_rdd"
   ]
  },
  {
   "cell_type": "code",
   "execution_count": 0,
   "metadata": {
    "application/vnd.databricks.v1+cell": {
     "cellMetadata": {
      "byteLimit": 2048000,
      "rowLimit": 10000
     },
     "inputWidgets": {},
     "nuid": "a0191961-7a3e-4c87-9555-90b0e4655366",
     "showTitle": false,
     "title": ""
    }
   },
   "outputs": [],
   "source": [
    "#Question 2: Types of studies and their frequencies\n",
    "study_type_freq_rdd = (df_filtered.rdd\n",
    "                       .map(lambda row: (row[\"Study Type\"], 1))\n",
    "                       .reduceByKey(lambda a, b: a + b)\n",
    "                       .sortBy(lambda pair: pair[1], ascending=False))\n"
   ]
  },
  {
   "cell_type": "code",
   "execution_count": 0,
   "metadata": {
    "application/vnd.databricks.v1+cell": {
     "cellMetadata": {
      "byteLimit": 2048000,
      "rowLimit": 10000
     },
     "inputWidgets": {},
     "nuid": "38f8f5d8-6811-42fd-8e31-b35a80ad33f1",
     "showTitle": false,
     "title": ""
    }
   },
   "outputs": [
    {
     "output_type": "stream",
     "name": "stdout",
     "output_type": "stream",
     "text": [
      "INTERVENTIONAL: 371384\nOBSERVATIONAL: 110221\nEXPANDED_ACCESS: 928\nUnknown: 889\n"
     ]
    }
   ],
   "source": [
    "# Applying the action to collect results\n",
    "study_type_freq_list = study_type_freq_rdd.collect()\n",
    "\n",
    "# Display the results\n",
    "for study_type, count in study_type_freq_list:\n",
    "    print(f\"{study_type}: {count}\")\n"
   ]
  },
  {
   "cell_type": "code",
   "execution_count": 0,
   "metadata": {
    "application/vnd.databricks.v1+cell": {
     "cellMetadata": {
      "byteLimit": 2048000,
      "rowLimit": 10000
     },
     "inputWidgets": {},
     "nuid": "02dae465-b550-4fa8-9d7a-07aea67f8706",
     "showTitle": false,
     "title": ""
    }
   },
   "outputs": [],
   "source": [
    "#Question 3: Top 5 conditions with frequencies\n",
    "top_conditions_rdd = (df_filtered.rdd\n",
    "                      .map(lambda row: (row[\"Conditions\"], 1))\n",
    "                      .reduceByKey(lambda a, b: a + b)\n",
    "                      .takeOrdered(5, key=lambda x: -x[1]))\n"
   ]
  },
  {
   "cell_type": "code",
   "execution_count": 0,
   "metadata": {
    "application/vnd.databricks.v1+cell": {
     "cellMetadata": {
      "byteLimit": 2048000,
      "rowLimit": 10000
     },
     "inputWidgets": {},
     "nuid": "109fd928-0b6f-44d4-ad83-a9d156743dbc",
     "showTitle": false,
     "title": ""
    }
   },
   "outputs": [
    {
     "output_type": "stream",
     "name": "stdout",
     "output_type": "stream",
     "text": [
      "Out[13]: [('Healthy', 7997),\n ('Breast Cancer', 4556),\n ('Prostate Cancer', 2650),\n ('Asthma', 2309),\n ('Obesity', 2284)]"
     ]
    }
   ],
   "source": [
    "top_conditions_rdd"
   ]
  },
  {
   "cell_type": "code",
   "execution_count": 0,
   "metadata": {
    "application/vnd.databricks.v1+cell": {
     "cellMetadata": {
      "byteLimit": 2048000,
      "rowLimit": 10000
     },
     "inputWidgets": {},
     "nuid": "d09fc3e7-5e3c-4ce7-b1b9-56f54357033f",
     "showTitle": false,
     "title": ""
    }
   },
   "outputs": [],
   "source": [
    "pharma_companies = [row[0] for row in df_pharmacy.select(\"Parent_Company\").distinct().collect()]\n"
   ]
  },
  {
   "cell_type": "code",
   "execution_count": 0,
   "metadata": {
    "application/vnd.databricks.v1+cell": {
     "cellMetadata": {
      "byteLimit": 2048000,
      "rowLimit": 10000
     },
     "inputWidgets": {},
     "nuid": "6b339013-a4e4-4ec6-8347-d14097493b42",
     "showTitle": false,
     "title": ""
    }
   },
   "outputs": [],
   "source": [
    "from pyspark import SparkContext\n",
    "sc = SparkSession.builder.getOrCreate().sparkContext\n",
    "broadcast_pharma_companies = sc.broadcast(pharma_companies)\n"
   ]
  },
  {
   "cell_type": "code",
   "execution_count": 0,
   "metadata": {
    "application/vnd.databricks.v1+cell": {
     "cellMetadata": {
      "byteLimit": 2048000,
      "rowLimit": 10000
     },
     "inputWidgets": {},
     "nuid": "11a9d289-3a6f-41e5-a163-cf08066ed63c",
     "showTitle": false,
     "title": ""
    }
   },
   "outputs": [
    {
     "output_type": "stream",
     "name": "stdout",
     "output_type": "stream",
     "text": [
      "Out[16]: [('National Cancer Institute (NCI)', 3410),\n ('Assiut University', 3335),\n ('Cairo University', 3023),\n ('Assistance Publique - Hôpitaux de Paris', 2951),\n ('Mayo Clinic', 2766),\n ('M.D. Anderson Cancer Center', 2702),\n ('Novartis Pharmaceuticals', 2393),\n ('National Institute of Allergy and Infectious Diseases (NIAID)', 2340),\n ('Massachusetts General Hospital', 2263),\n ('National Taiwan University Hospital', 2181)]"
     ]
    }
   ],
   "source": [
    "#Question 4: Top 10 most common sponsors that are not phramaceutical \n",
    "top_sponsors_rdd = (df_filtered.rdd\n",
    "                    .filter(lambda row: row[\"Sponsor\"] not in broadcast_pharma_companies.value)\n",
    "                    .map(lambda row: (row[\"Sponsor\"], 1))\n",
    "                    .reduceByKey(lambda a, b: a + b)\n",
    "                    .takeOrdered(10, key=lambda x: -x[1]))\n",
    "top_sponsors_rdd\n"
   ]
  },
  {
   "cell_type": "code",
   "execution_count": 0,
   "metadata": {
    "application/vnd.databricks.v1+cell": {
     "cellMetadata": {
      "byteLimit": 2048000,
      "rowLimit": 10000
     },
     "inputWidgets": {},
     "nuid": "ffe23807-3bb6-419b-95bf-24f309be8e25",
     "showTitle": false,
     "title": ""
    }
   },
   "outputs": [
    {
     "output_type": "display_data",
     "data": {
      "image/png": "[encoded data removed]"
     },
     "metadata": {
      "application/vnd.databricks.v1+output": {
       "addedWidgets": {},
       "arguments": {},
       "data": "data:image/png;base64,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\n",
       "datasetInfos": [],
       "metadata": {},
       "removedWidgets": [],
       "type": "image"
      }
     },
     "output_type": "display_data"
    },
    {
     "output_type": "display_data",
     "data": {
      "text/html": [
       "<div>\n",
       "<style scoped>\n",
       "    .dataframe tbody tr th:only-of-type {\n",
       "        vertical-align: middle;\n",
       "    }\n",
       "\n",
       "    .dataframe tbody tr th {\n",
       "        vertical-align: top;\n",
       "    }\n",
       "\n",
       "    .dataframe thead th {\n",
       "        text-align: right;\n",
       "    }\n",
       "</style>\n",
       "<table border=\"1\" class=\"dataframe\">\n",
       "  <thead>\n",
       "    <tr style=\"text-align: right;\">\n",
       "      <th></th>\n",
       "      <th>month</th>\n",
       "      <th>count</th>\n",
       "    </tr>\n",
       "  </thead>\n",
       "  <tbody>\n",
       "    <tr>\n",
       "      <th>0</th>\n",
       "      <td>1</td>\n",
       "      <td>2285</td>\n",
       "    </tr>\n",
       "    <tr>\n",
       "      <th>1</th>\n",
       "      <td>2</td>\n",
       "      <td>1861</td>\n",
       "    </tr>\n",
       "    <tr>\n",
       "      <th>2</th>\n",
       "      <td>3</td>\n",
       "      <td>2523</td>\n",
       "    </tr>\n",
       "    <tr>\n",
       "      <th>3</th>\n",
       "      <td>4</td>\n",
       "      <td>2081</td>\n",
       "    </tr>\n",
       "    <tr>\n",
       "      <th>4</th>\n",
       "      <td>5</td>\n",
       "      <td>2286</td>\n",
       "    </tr>\n",
       "    <tr>\n",
       "      <th>5</th>\n",
       "      <td>6</td>\n",
       "      <td>3003</td>\n",
       "    </tr>\n",
       "    <tr>\n",
       "      <th>6</th>\n",
       "      <td>7</td>\n",
       "      <td>2329</td>\n",
       "    </tr>\n",
       "    <tr>\n",
       "      <th>7</th>\n",
       "      <td>8</td>\n",
       "      <td>2281</td>\n",
       "    </tr>\n",
       "    <tr>\n",
       "      <th>8</th>\n",
       "      <td>9</td>\n",
       "      <td>2356</td>\n",
       "    </tr>\n",
       "    <tr>\n",
       "      <th>9</th>\n",
       "      <td>10</td>\n",
       "      <td>2144</td>\n",
       "    </tr>\n",
       "    <tr>\n",
       "      <th>10</th>\n",
       "      <td>11</td>\n",
       "      <td>1909</td>\n",
       "    </tr>\n",
       "    <tr>\n",
       "      <th>11</th>\n",
       "      <td>12</td>\n",
       "      <td>6819</td>\n",
       "    </tr>\n",
       "  </tbody>\n",
       "</table>\n",
       "</div>"
      ]
     },
     "metadata": {
      "application/vnd.databricks.v1+output": {
       "addedWidgets": {},
       "arguments": {},
       "data": "<div>\n<style scoped>\n    .dataframe tbody tr th:only-of-type {\n        vertical-align: middle;\n    }\n\n    .dataframe tbody tr th {\n        vertical-align: top;\n    }\n\n    .dataframe thead th {\n        text-align: right;\n    }\n</style>\n<table border=\"1\" class=\"dataframe\">\n  <thead>\n    <tr style=\"text-align: right;\">\n      <th></th>\n      <th>month</th>\n      <th>count</th>\n    </tr>\n  </thead>\n  <tbody>\n    <tr>\n      <th>0</th>\n      <td>1</td>\n      <td>2285</td>\n    </tr>\n    <tr>\n      <th>1</th>\n      <td>2</td>\n      <td>1861</td>\n    </tr>\n    <tr>\n      <th>2</th>\n      <td>3</td>\n      <td>2523</td>\n    </tr>\n    <tr>\n      <th>3</th>\n      <td>4</td>\n      <td>2081</td>\n    </tr>\n    <tr>\n      <th>4</th>\n      <td>5</td>\n      <td>2286</td>\n    </tr>\n    <tr>\n      <th>5</th>\n      <td>6</td>\n      <td>3003</td>\n    </tr>\n    <tr>\n      <th>6</th>\n      <td>7</td>\n      <td>2329</td>\n    </tr>\n    <tr>\n      <th>7</th>\n      <td>8</td>\n      <td>2281</td>\n    </tr>\n    <tr>\n      <th>8</th>\n      <td>9</td>\n      <td>2356</td>\n    </tr>\n    <tr>\n      <th>9</th>\n      <td>10</td>\n      <td>2144</td>\n    </tr>\n    <tr>\n      <th>10</th>\n      <td>11</td>\n      <td>1909</td>\n    </tr>\n    <tr>\n      <th>11</th>\n      <td>12</td>\n      <td>6819</td>\n    </tr>\n  </tbody>\n</table>\n</div>",
       "datasetInfos": [],
       "metadata": {},
       "removedWidgets": [],
       "textData": null,
       "type": "htmlSandbox"
      }
     },
     "output_type": "display_data"
    }
   ],
   "source": [
    "# Question 5: Plot number of completed studies for each month in 2023\n",
    "import matplotlib.pyplot as plt\n",
    "from pyspark.sql.functions import to_date, year, month\n",
    "# Convert \"Completion Date\" from string to date format\n",
    "df_filtered = df_filtered.withColumn(\"Completion Date\", to_date(df_filtered[\"Completion Date\"], \"yyyy-MM-dd\"))\n",
    "\n",
    "# Filter for 2023 and group by month\n",
    "completed_studies_df = df_filtered.filter(year(\"Completion Date\") == 2023) \\\n",
    "    .groupBy(month(\"Completion Date\").alias('month')) \\\n",
    "    .count() \\\n",
    "    .orderBy('month')\n",
    "\n",
    "# Convert to Pandas DataFrame for plotting\n",
    "completed_studies_pd = completed_studies_df.toPandas()\n",
    "\n",
    "# Plotting\n",
    "plt.figure(figsize=(10, 6))\n",
    "plt.bar(completed_studies_pd['month'], completed_studies_pd['count'])\n",
    "plt.xlabel('Month')\n",
    "plt.ylabel('Number of Completed Studies')\n",
    "plt.title('Completed Studies per Month in 2023')\n",
    "plt.xticks(range(1, 13))\n",
    "plt.grid(True)\n",
    "plt.show()\n",
    "\n",
    "# Display table of values\n",
    "completed_studies_pd"
   ]
  },
  {
   "cell_type": "code",
   "execution_count": 0,
   "metadata": {
    "application/vnd.databricks.v1+cell": {
     "cellMetadata": {
      "byteLimit": 2048000,
      "rowLimit": 10000
     },
     "inputWidgets": {},
     "nuid": "b74dfa8c-7e7c-4ea7-a772-eb29106a6087",
     "showTitle": false,
     "title": ""
    }
   },
   "outputs": [
    {
     "output_type": "stream",
     "name": "stdout",
     "output_type": "stream",
     "text": [
      "Year: 1916, Count: 1\nYear: 1917, Count: 1\nYear: 1963, Count: 1\nYear: 1968, Count: 1\nYear: 1972, Count: 1\nYear: 1973, Count: 2\nYear: 1975, Count: 1\nYear: 1976, Count: 5\nYear: 1977, Count: 8\nYear: 1978, Count: 2\nYear: 1979, Count: 4\nYear: 1980, Count: 2\nYear: 1981, Count: 2\nYear: 1983, Count: 5\nYear: 1984, Count: 10\nYear: 1985, Count: 4\nYear: 1986, Count: 2\nYear: 1987, Count: 3\nYear: 1988, Count: 7\nYear: 1989, Count: 17\nYear: 1990, Count: 18\nYear: 1991, Count: 25\nYear: 1992, Count: 28\nYear: 1993, Count: 41\nYear: 1994, Count: 39\nYear: 1995, Count: 56\nYear: 1996, Count: 84\nYear: 1997, Count: 95\nYear: 1998, Count: 117\nYear: 1999, Count: 172\nYear: 2000, Count: 245\nYear: 2001, Count: 282\nYear: 2002, Count: 330\nYear: 2003, Count: 468\nYear: 2004, Count: 577\nYear: 2005, Count: 682\nYear: 2006, Count: 926\nYear: 2007, Count: 1047\nYear: 2008, Count: 1239\nYear: 2009, Count: 1535\nYear: 2010, Count: 1879\nYear: 2011, Count: 2236\nYear: 2012, Count: 2871\nYear: 2013, Count: 3701\nYear: 2014, Count: 5044\nYear: 2015, Count: 7596\nYear: 2016, Count: 11279\nYear: 2017, Count: 25743\nYear: 2018, Count: 28761\nYear: 2019, Count: 30318\nYear: 2020, Count: 31332\nYear: 2021, Count: 35080\nYear: 2022, Count: 32643\nYear: 2023, Count: 30381\nYear: 2024, Count: 6475\nYear: 2025, Count: 129\nYear: 2026, Count: 17\nYear: 2027, Count: 5\nYear: 2028, Count: 1\nYear: 2030, Count: 3\nYear: 2097, Count: 3\n"
     ]
    }
   ],
   "source": [
    "#further analysis \n",
    "from datetime import datetime\n",
    "\n",
    "# Function to parse the date and extract the year\n",
    "def get_year_from_date(date_string):\n",
    "    # Assuming the date format is \"yyyy-MM-dd\"\n",
    "    # Adjust the format as necessary to match your dataset\n",
    "    try:\n",
    "        return datetime.strptime(date_string, \"%Y-%m-%d\").year\n",
    "    except:\n",
    "        return None  # Returning None for rows with invalid or missing dates\n",
    "\n",
    "# Adjusted RDD operation\n",
    "study_year_distribution = (df_filtered.rdd\n",
    "                           .map(lambda row: (get_year_from_date(row[\"Start Date\"]), 1))\n",
    "                           .filter(lambda x: x[0] is not None)  # Filter out None values\n",
    "                           .reduceByKey(lambda a, b: a + b)\n",
    "                           .sortByKey()\n",
    "                           .collect())\n",
    "\n",
    "# Display the results\n",
    "for year, count in study_year_distribution:\n",
    "    print(f\"Year: {year}, Count: {count}\")\n"
   ]
  },
  {
   "cell_type": "code",
   "execution_count": 0,
   "metadata": {
    "application/vnd.databricks.v1+cell": {
     "cellMetadata": {
      "byteLimit": 2048000,
      "rowLimit": 10000
     },
     "inputWidgets": {},
     "nuid": "ed936779-6dd0-4ef6-a182-f8673f89480a",
     "showTitle": false,
     "title": ""
    }
   },
   "outputs": [
    {
     "output_type": "stream",
     "name": "stdout",
     "output_type": "stream",
     "text": [
      "('OBSERVATIONAL', 18859.205115177687)\n('INTERVENTIONAL', 1225.1344322857205)\n('Unknown', 0.0)\n('EXPANDED_ACCESS', 0.0)\n"
     ]
    }
   ],
   "source": [
    "#further analysis \n",
    "def safe_float_conversion(enrollment):\n",
    "    try:\n",
    "        # Attempt to convert the enrollment value to a float\n",
    "        return float(enrollment)\n",
    "    except (ValueError, TypeError):\n",
    "        # Return a default value if the conversion fails\n",
    "        return 0.0\n",
    "\n",
    "# Apply the safe conversion function to the RDD transformation\n",
    "study_type_avg_enrollment = (\n",
    "    df_filtered.rdd\n",
    "    .map(lambda row: (row[\"Study Type\"], (safe_float_conversion(row[\"Enrollment\"]), 1)))\n",
    "    .reduceByKey(lambda a, b: (a[0] + b[0], a[1] + b[1]))\n",
    "    .mapValues(lambda x: x[0] / x[1] if x[1] > 0 else 0)  # Avoid division by zero\n",
    "    .sortBy(lambda x: x[1], ascending=False)\n",
    "    .collect()\n",
    ")\n",
    "\n",
    "# Display the results\n",
    "for item in study_type_avg_enrollment:\n",
    "    print(item)\n"
   ]
  },
  {
   "cell_type": "code",
   "execution_count": 0,
   "metadata": {
    "application/vnd.databricks.v1+cell": {
     "cellMetadata": {
      "byteLimit": 2048000,
      "rowLimit": 10000
     },
     "inputWidgets": {},
     "nuid": "5b50f86f-afe8-49c1-b235-d0e28d653188",
     "showTitle": false,
     "title": ""
    }
   },
   "outputs": [
    {
     "output_type": "stream",
     "name": "stdout",
     "output_type": "stream",
     "text": [
      "Out[20]: [('Unknown', 325505),\n ('National Cancer Institute (NCI)', 7918),\n ('National Heart\", Lung,\" and Blood Institute (NHLBI)', 1689),\n ('National Institute of Mental Health (NIMH)', 1590),\n ('National Institute on Drug Abuse (NIDA)', 1394)]"
     ]
    }
   ],
   "source": [
    "#further analysis \n",
    "(df_filtered.rdd\n",
    " .filter(lambda row: row[\"Collaborators\"] is not None)\n",
    " .map(lambda row: (row[\"Collaborators\"], 1))\n",
    " .reduceByKey(lambda a, b: a + b)\n",
    " .takeOrdered(5, key=lambda x: -x[1]))\n"
   ]
  }
 ],
 "metadata": {
  "application/vnd.databricks.v1+notebook": {
   "dashboards": [],
   "language": "python",
   "notebookMetadata": {
    "pythonIndentUnit": 4
   },
   "notebookName": "Durella",
   "widgets": {}
  }
 },
 "nbformat": 4,
 "nbformat_minor": 0
}
